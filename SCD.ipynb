{
  "nbformat": 4,
  "nbformat_minor": 0,
  "metadata": {
    "colab": {
      "private_outputs": true,
      "provenance": [],
      "mount_file_id": "1M7Ipk0oDjQ5v8FzaCjQ4hPS-cp3Vdn99",
      "authorship_tag": "ABX9TyMZBDAYIIU8fSigv2mZN9nY",
      "include_colab_link": true
    },
    "kernelspec": {
      "name": "python3",
      "display_name": "Python 3"
    },
    "language_info": {
      "name": "python"
    }
  },
  "cells": [
    {
      "cell_type": "markdown",
      "metadata": {
        "id": "view-in-github",
        "colab_type": "text"
      },
      "source": [
        "<a href=\"https://colab.research.google.com/github/Agathonejriii/agathonejriii/blob/main/SCD.ipynb\" target=\"_parent\"><img src=\"https://colab.research.google.com/assets/colab-badge.svg\" alt=\"Open In Colab\"/></a>"
      ]
    },
    {
      "cell_type": "code",
      "execution_count": null,
      "metadata": {
        "collapsed": true,
        "id": "9U9TAWIBQJ4H"
      },
      "outputs": [],
      "source": [
        "!pip install pandas numpy matplotlib seaborn scikit-learn\n",
        "\n"
      ]
    },
    {
      "cell_type": "code",
      "source": [
        "import pandas as pd\n",
        "import numpy as np\n",
        "import matplotlib.pyplot as plt\n",
        "import seaborn as sns\n",
        "from sklearn.model_selection import train_test_split\n",
        "from sklearn.preprocessing import StandardScaler\n",
        "from sklearn.ensemble import RandomForestClassifier\n",
        "from sklearn.metrics import accuracy_score, classification_report, roc_auc_score\n",
        "\n"
      ],
      "metadata": {
        "id": "kNxJrgR7QcjM"
      },
      "execution_count": null,
      "outputs": []
    },
    {
      "cell_type": "code",
      "source": [
        "import os\n",
        "\n",
        "# Define the path to your project folder\n",
        "project_folder = '/content/drive/MyDrive/archive.data'\n",
        "\n",
        "# Check the contents of the main folder\n",
        "os.listdir(project_folder)\n"
      ],
      "metadata": {
        "collapsed": true,
        "id": "7fzw1rD3W4wb"
      },
      "execution_count": null,
      "outputs": []
    },
    {
      "cell_type": "markdown",
      "source": [
        "# New Section"
      ],
      "metadata": {
        "id": "UfASNVpLW-za"
      }
    },
    {
      "cell_type": "code",
      "source": [
        "import os\n",
        "from PIL import Image\n",
        "\n",
        "# Path to the \"negative\" and \"positive\" folders\n",
        "negative_folder = os.path.join(project_folder, 'Negative')\n",
        "positive_folder = os.path.join(project_folder, 'Positive')\n",
        "\n",
        "# Check the contents of the \"negative\" folder\n",
        "os.listdir(negative_folder)\n",
        "os.listdir(positive_folder)\n"
      ],
      "metadata": {
        "id": "JaRXelm6iR9P"
      },
      "execution_count": null,
      "outputs": []
    },
    {
      "cell_type": "code",
      "source": [
        "# Define the paths to the \"labelled\" and \"unlabelled\" subfolders\n",
        "negative_clear_folder = os.path.join(negative_folder, 'Clear')\n",
        "\n",
        "\n",
        "positive_labelled_folder = os.path.join(positive_folder, 'Labelled')\n",
        "positive_unlabelled_folder = os.path.join(positive_folder, 'Unlabelled')\n",
        "\n",
        "# List the images in the labelled folder\n",
        "negative_Clear_images = os.listdir(negative_clear_folder)\n",
        "positive_labelled_images = os.listdir(positive_labelled_folder)\n",
        "positive_unlabelled_images = os.listdir(positive_unlabelled_folder)\n",
        "\n",
        "print(\"Negative Clear Images:\", negative_Clear_images)\n",
        "print(\"Positive Labelled Images:\", positive_labelled_images)\n",
        "print(\"Positive Unlabelled Images:\", positive_unlabelled_images)\n"
      ],
      "metadata": {
        "collapsed": true,
        "id": "MjYM6gQAjXWr"
      },
      "execution_count": null,
      "outputs": []
    },
    {
      "cell_type": "code",
      "source": [
        "from PIL import Image\n",
        "import numpy as np\n",
        "\n",
        "def load_image(image_path):\n",
        "    \"\"\"Load an image and convert it to a numpy array.\"\"\"\n",
        "    img = Image.open(image_path)\n",
        "    img = img.resize((224, 224))  # Resize to standard size (optional)\n",
        "    return np.array(img)\n",
        "\n",
        "# Example: Load the first image from the labelled negative folder\n",
        "first_negative_image = os.path.join(negative_clear_folder, negative_Clear_images[0])\n",
        "img_array = load_image(first_negative_image)\n",
        "\n",
        "# Show the image\n",
        "Image.open(first_negative_image).show()\n",
        "\n",
        "print(f\"Image array shape: {img_array.shape}\")\n"
      ],
      "metadata": {
        "id": "34MKqTHtmANp"
      },
      "execution_count": null,
      "outputs": []
    },
    {
      "cell_type": "code",
      "source": [
        "image_paths = []\n",
        "labels = []\n",
        "\n",
        "# Assign labels to negative and positive images\n",
        "for image_name in negative_Clear_images:\n",
        "    image_paths.append(os.path.join(negative_clear_folder, image_name))\n",
        "    labels.append(0)  # Label 0 for negative images\n",
        "\n",
        "for image_name in positive_labelled_images:\n",
        "    image_paths.append(os.path.join(positive_labelled_folder, image_name))\n",
        "    labels.append(1)  # Label 1 for positive images\n",
        "\n",
        "# Example: Print paths and labels for first few images\n",
        "for i in range(5):\n",
        "    print(f\"Image: {image_paths[i]}, Label: {labels[i]}\")\n"
      ],
      "metadata": {
        "id": "b4lmS25JmvO2"
      },
      "execution_count": null,
      "outputs": []
    },
    {
      "cell_type": "code",
      "source": [
        "from tensorflow.keras.preprocessing.image import ImageDataGenerator\n",
        "\n",
        "# Define the ImageDataGenerator for augmentation\n",
        "datagen = ImageDataGenerator(\n",
        "    rotation_range=20,\n",
        "    width_shift_range=0.2,\n",
        "    height_shift_range=0.2,\n",
        "    shear_range=0.2,\n",
        "    zoom_range=0.2,\n",
        "    horizontal_flip=True,\n",
        "    fill_mode='nearest'\n",
        ")\n",
        "\n",
        "# Example: Augment a single image\n",
        "img = Image.open(image_paths[0])  # Load an example image\n",
        "img_array = np.array(img)\n",
        "img_array = img_array.reshape((1,) + img_array.shape)  # Reshape for augmentation\n",
        "\n",
        "# Apply the augmentation\n",
        "augmented_images = datagen.flow(img_array)\n",
        "\n",
        "# Display a few augmented images\n",
        "for i in range(5):\n",
        "    batch = next(augmented_images)\n",
        "    augmented_img = batch[0].astype('uint8')\n",
        "    Image.fromarray(augmented_img).show()\n"
      ],
      "metadata": {
        "id": "6_WkWetsnCKT"
      },
      "execution_count": null,
      "outputs": []
    },
    {
      "cell_type": "code",
      "source": [
        "from tensorflow.keras.preprocessing.image import ImageDataGenerator\n",
        "\n",
        "# Define a generator for training data with rescaling\n",
        "train_datagen = ImageDataGenerator(rescale=1./255)  # Normalize pixel values\n",
        "\n",
        "# Create a generator for the training data\n",
        "train_generator = train_datagen.flow_from_directory(\n",
        "    project_folder,  # The root folder where the 'negative' and 'positive' directories are located\n",
        "    target_size=(224, 224),  # Resize images to a fixed size\n",
        "    batch_size=32,  # Number of images to process per batch\n",
        "    class_mode='binary',  # Binary classification (0 for negative, 1 for positive)\n",
        "    shuffle=True  # Shuffle images before training\n",
        ")\n",
        "\n",
        "# Check the class labels and directory structure\n",
        "print(train_generator.class_indices)\n"
      ],
      "metadata": {
        "id": "J1Fb3EDCntPJ"
      },
      "execution_count": null,
      "outputs": []
    },
    {
      "cell_type": "code",
      "source": [
        "# Show a batch of images and their labels\n",
        "x_batch, y_batch = next(train_generator)  # Fetch a single batch\n",
        "print(\"Batch of images:\", x_batch.shape)  # (batch_size, height, width, channels)\n",
        "print(\"Labels:\", y_batch)  # Corresponding labels for the batch\n"
      ],
      "metadata": {
        "id": "K01nkOxXoaTO"
      },
      "execution_count": null,
      "outputs": []
    },
    {
      "cell_type": "code",
      "source": [
        "from tensorflow.keras.models import Sequential\n",
        "from tensorflow.keras.layers import Conv2D, MaxPooling2D, Flatten, Dense, Dropout\n",
        "\n",
        "# Build a simple CNN model\n",
        "model = Sequential([\n",
        "    Conv2D(32, (3, 3), activation='relu', input_shape=(224, 224, 3)),\n",
        "    MaxPooling2D(pool_size=(2, 2)),\n",
        "    Conv2D(64, (3, 3), activation='relu'),\n",
        "    MaxPooling2D(pool_size=(2, 2)),\n",
        "    Flatten(),\n",
        "    Dense(64, activation='relu'),\n",
        "    Dropout(0.5),\n",
        "    Dense(1, activation='sigmoid')  # Sigmoid activation for binary classification\n",
        "])\n",
        "\n",
        "# Compile the model\n",
        "model.compile(optimizer='adam', loss='binary_crossentropy', metrics=['accuracy'])\n",
        "\n",
        "# Print the model summary to see the architecture\n",
        "model.summary()\n"
      ],
      "metadata": {
        "id": "Q1LzvpA7oxs1"
      },
      "execution_count": null,
      "outputs": []
    },
    {
      "cell_type": "code",
      "source": [
        "# Train the model\n",
        "history = model.fit(\n",
        "    train_generator,  # The image generator\n",
        "    epochs=10,  # Number of epochs\n",
        "    steps_per_epoch=train_generator.samples // train_generator.batch_size,  # Number of batches per epoch\n",
        ")\n"
      ],
      "metadata": {
        "id": "4o7diCGJqCcM"
      },
      "execution_count": null,
      "outputs": []
    },
    {
      "cell_type": "code",
      "source": [
        "import matplotlib.pyplot as plt\n",
        "\n",
        "# Plot training accuracy and loss\n",
        "plt.plot(history.history['accuracy'], label='accuracy')\n",
        "plt.plot(history.history['loss'], label='loss')\n",
        "plt.title('Model Accuracy and Loss')\n",
        "plt.xlabel('Epoch')\n",
        "plt.ylabel('Value')\n",
        "plt.legend()\n",
        "plt.show()\n"
      ],
      "metadata": {
        "id": "zhcPkHbYrXQ8"
      },
      "execution_count": null,
      "outputs": []
    }
  ]
}